{
  "nbformat": 4,
  "nbformat_minor": 0,
  "metadata": {
    "colab": {
      "provenance": []
    },
    "kernelspec": {
      "name": "python3",
      "display_name": "Python 3"
    },
    "language_info": {
      "name": "python"
    }
  },
  "cells": [
    {
      "cell_type": "code",
      "execution_count": 1,
      "metadata": {
        "id": "vNYZdCbTvWo8"
      },
      "outputs": [],
      "source": [
        "my_ProjectID = \"data-idc\"\n",
        "\n",
        "import os\n",
        "os.environ[\"GCP_PROJECT_ID\"] = my_ProjectID"
      ]
    },
    {
      "cell_type": "code",
      "source": [
        "from google.colab import auth\n",
        "auth.authenticate_user()"
      ],
      "metadata": {
        "id": "bxuOcSEMvlvh"
      },
      "execution_count": 2,
      "outputs": []
    },
    {
      "cell_type": "code",
      "source": [
        "from google.cloud import bigquery\n",
        "bq_client = bigquery.Client(my_ProjectID)"
      ],
      "metadata": {
        "id": "Zpi01RYEv4gd"
      },
      "execution_count": 3,
      "outputs": []
    },
    {
      "cell_type": "code",
      "source": [
        "selection_query = \"\"\"\n",
        "  SELECT  \n",
        "    StudyInstanceUID, \n",
        "    SeriesInstanceUID, \n",
        "    SOPInstanceUID, \n",
        "    instance_size, \n",
        "    gcs_url \n",
        "  FROM \n",
        "    `bigquery-public-data.idc_current.dicom_all` \n",
        "  WHERE \n",
        "    PatientID = \\\"C3L-01063\\\"\n",
        "\"\"\"\n",
        "\n",
        "selection_result = bq_client.query(selection_query)\n",
        "selection_df = selection_result.result().to_dataframe()"
      ],
      "metadata": {
        "id": "zatFoOyRwDw7"
      },
      "execution_count": 4,
      "outputs": []
    },
    {
      "cell_type": "code",
      "source": [
        "size_gb = selection_df[\"instance_size\"].sum()/(1024*1024*1024)\n",
        "print(f\"Cohort size on disk: {size_gb} Gb\")"
      ],
      "metadata": {
        "colab": {
          "base_uri": "https://localhost:8080/"
        },
        "id": "brgte0AKwLFm",
        "outputId": "b31d4dbf-f17b-4dc5-fd3a-7128cdaa4b1a"
      },
      "execution_count": 5,
      "outputs": [
        {
          "output_type": "stream",
          "name": "stdout",
          "text": [
            "Cohort size on disk: 0.25197976268827915 Gb\n"
          ]
        }
      ]
    },
    {
      "cell_type": "code",
      "source": [
        "%%bigquery --project=$my_ProjectID"
      ],
      "metadata": {
        "id": "seyQJcHWwPPR"
      },
      "execution_count": null,
      "outputs": []
    },
    {
      "cell_type": "code",
      "source": [
        "def get_idc_viewer_url(studyUID, seriesUID=None):\n",
        "  url = \"https://viewer.imaging.datacommons.cancer.gov/viewer/\"+studyUID\n",
        "  if seriesUID is not None:\n",
        "    url = url+\"?seriesInstanceUID=\"+seriesUID\n",
        "  return url\n",
        "\n",
        "my_StudyInstanceUID = selection_df[\"StudyInstanceUID\"][0]\n",
        "my_SeriesInstanceUID = selection_df[selection_df[\"StudyInstanceUID\"] == selection_df[\"StudyInstanceUID\"][0]][\"SeriesInstanceUID\"][0]\n",
        "\n",
        "print(\"URL to view the entire study:\")\n",
        "print(get_idc_viewer_url(my_StudyInstanceUID))"
      ],
      "metadata": {
        "colab": {
          "base_uri": "https://localhost:8080/"
        },
        "id": "przz8Ot5wYKV",
        "outputId": "7851d1b2-4dc8-4021-9256-e0be798eb754"
      },
      "execution_count": 7,
      "outputs": [
        {
          "output_type": "stream",
          "name": "stdout",
          "text": [
            "URL to view the entire study:\n",
            "https://viewer.imaging.datacommons.cancer.gov/viewer/2.25.84514367312977501343770431102582089990\n"
          ]
        }
      ]
    },
    {
      "cell_type": "code",
      "source": [
        "import os\n",
        "os.environ[\"DOWNLOAD_DEST\"] = \"/content/IDC_downloads\"\n",
        "os.environ[\"MANIFEST\"] = \"/content/idc_manifest.txt\"\n",
        "     \n",
        "\n",
        "!mkdir -p ${DOWNLOAD_DEST}\n",
        "!echo \"gsutil cp $* $DOWNLOAD_DEST\" > gsutil_download.sh\n",
        "!chmod +x gsutil_download.sh\n",
        "     \n",
        "\n",
        "# creating a manifest file for the subsequent download of files\n",
        "selection_df[\"gcs_url\"].to_csv(os.environ[\"MANIFEST\"], header=False, index=False)"
      ],
      "metadata": {
        "id": "pJBiy8LZweMn"
      },
      "execution_count": 8,
      "outputs": []
    },
    {
      "cell_type": "code",
      "source": [
        "!cat ${MANIFEST} | gsutil -m cp -I ${DOWNLOAD_DEST}"
      ],
      "metadata": {
        "colab": {
          "base_uri": "https://localhost:8080/"
        },
        "id": "oGujix82wrBu",
        "outputId": "0e29ba1e-a86e-4dd6-9bb2-6110060bcbbd"
      },
      "execution_count": 9,
      "outputs": [
        {
          "output_type": "stream",
          "name": "stdout",
          "text": [
            "Copying gs://public-datasets-idc/4eef2feb-7cff-471b-9358-467e77656cd9.dcm...\n",
            "/ [0 files][    0.0 B/100.8 MiB]                                                \rCopying gs://public-datasets-idc/a17aca9b-cecf-421c-9514-a40cccba222a.dcm...\n",
            "Copying gs://public-datasets-idc/3eaab5a2-96fb-4f88-a940-ab983c9630f2.dcm...\n",
            "Copying gs://public-datasets-idc/b8c54e0c-377f-444b-9472-46bbc6b5759e.dcm...\n",
            "Copying gs://public-datasets-idc/925a4e17-aa7d-4834-a406-918132a48109.dcm...\n",
            "Copying gs://public-datasets-idc/865f522b-db0e-4b6d-8d1b-38dbe12b8e3a.dcm...\n",
            "Copying gs://public-datasets-idc/d0d2ed69-915e-41f3-8f19-f5f4f348b8c1.dcm...\n",
            "Copying gs://public-datasets-idc/850589b3-1165-42be-a961-3f8d35350fee.dcm...\n",
            "Copying gs://public-datasets-idc/fcbf11d4-1d0c-4e79-abd9-f0a9e125b38d.dcm...\n",
            "Copying gs://public-datasets-idc/3dcc74bc-ba81-43f9-8c00-031e1a1d40af.dcm...\n",
            "Copying gs://public-datasets-idc/b524e94f-dcb0-45ec-a87e-f52813a47002.dcm...\n",
            "Copying gs://public-datasets-idc/a6ba5aff-a652-49bf-ab24-d1cae23566be.dcm...\n",
            "- [12/12 files][258.0 MiB/258.0 MiB] 100% Done                                  \n",
            "Operation completed over 12 objects/258.0 MiB.                                   \n"
          ]
        }
      ]
    },
    {
      "cell_type": "code",
      "source": [
        "!ls IDC_downloads"
      ],
      "metadata": {
        "colab": {
          "base_uri": "https://localhost:8080/"
        },
        "id": "0TDF8OHxw2HK",
        "outputId": "89ca4150-0559-4458-9352-4ae16479946b"
      },
      "execution_count": 10,
      "outputs": [
        {
          "output_type": "stream",
          "name": "stdout",
          "text": [
            "3dcc74bc-ba81-43f9-8c00-031e1a1d40af.dcm\n",
            "3eaab5a2-96fb-4f88-a940-ab983c9630f2.dcm\n",
            "4eef2feb-7cff-471b-9358-467e77656cd9.dcm\n",
            "850589b3-1165-42be-a961-3f8d35350fee.dcm\n",
            "865f522b-db0e-4b6d-8d1b-38dbe12b8e3a.dcm\n",
            "925a4e17-aa7d-4834-a406-918132a48109.dcm\n",
            "a17aca9b-cecf-421c-9514-a40cccba222a.dcm\n",
            "a6ba5aff-a652-49bf-ab24-d1cae23566be.dcm\n",
            "b524e94f-dcb0-45ec-a87e-f52813a47002.dcm\n",
            "b8c54e0c-377f-444b-9472-46bbc6b5759e.dcm\n",
            "d0d2ed69-915e-41f3-8f19-f5f4f348b8c1.dcm\n",
            "fcbf11d4-1d0c-4e79-abd9-f0a9e125b38d.dcm\n"
          ]
        }
      ]
    },
    {
      "cell_type": "code",
      "source": [],
      "metadata": {
        "id": "F-fXmegLw5uo"
      },
      "execution_count": null,
      "outputs": []
    }
  ]
}